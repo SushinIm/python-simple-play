{
 "cells": [
  {
   "cell_type": "code",
   "execution_count": 1,
   "metadata": {},
   "outputs": [],
   "source": [
    "import json\n",
    "import os\n",
    "from dbutil import getConnection"
   ]
  },
  {
   "cell_type": "code",
   "execution_count": 2,
   "metadata": {},
   "outputs": [],
   "source": [
    "def insert_marker(data):\n",
    "    conn = getConnection()\n",
    "\n",
    "    cur = conn.cursor()\n",
    "    try:\n",
    "        cur.execute('insert into marker values(%s, %s, %s, %s, %s, %s, %s)',\n",
    "                    (data['markerid'], data['category'], data['lat'],\n",
    "                    data['lon'], data['ele'], data['name'],\n",
    "                    data['routeid']))\n",
    "    except Exception as e:\n",
    "        print(e)\n",
    "        print(data['markerid'])\n",
    "    finally:\n",
    "        conn.commit()\n",
    "        cur.close()\n",
    "        conn.close()\n"
   ]
  },
  {
   "cell_type": "code",
   "execution_count": 3,
   "metadata": {},
   "outputs": [],
   "source": [
    "def insert_mntn_route(data):\n",
    "    conn = getConnection()\n",
    "\n",
    "    cur = conn.cursor()\n",
    "    try:\n",
    "        cur.execute('insert into mntn_route values(%s, %s)',\n",
    "                    (data['routeid'], data['mntnid']))\n",
    "    except Exception as e:\n",
    "        print(e)\n",
    "        print(data['routeid'])\n",
    "    finally:\n",
    "        conn.commit()\n",
    "        cur.close()\n",
    "        conn.close()\n"
   ]
  },
  {
   "cell_type": "code",
   "execution_count": 4,
   "metadata": {},
   "outputs": [],
   "source": [
    "def insert_mountain(data):\n",
    "    conn = getConnection()\n",
    "\n",
    "    cur = conn.cursor()\n",
    "    try:\n",
    "        cur.execute('insert into mountain values(%s, %s, %s, %s, %s, %s, %s, %s, %s)',\n",
    "                    (data['mntnid'], data['reason'], data['mntnname'],\n",
    "                    data['mntnsname'], data['mntnaddr'], data['mntnhigh'],\n",
    "                    data['mntnadmin'], data['mntnadmnum'], data['mntidetail']))\n",
    "    except Exception as e:\n",
    "        print(e)\n",
    "        print(data['mntnid'])\n",
    "    finally:\n",
    "        conn.commit()\n",
    "        cur.close()\n",
    "        conn.close()\n"
   ]
  },
  {
   "cell_type": "code",
   "execution_count": 5,
   "metadata": {},
   "outputs": [],
   "source": [
    "def insert_route_rname(data):\n",
    "    conn = getConnection()\n",
    "\n",
    "    cur = conn.cursor()\n",
    "    try:\n",
    "        cur.execute('insert into route_rname values(%s, %s)',\n",
    "                    (data['routeid'], data['routename']))\n",
    "    except Exception as e:\n",
    "        print(e)\n",
    "        print(data['routeid'])\n",
    "    finally:\n",
    "        conn.commit()\n",
    "        cur.close()\n",
    "        conn.close()\n"
   ]
  },
  {
   "cell_type": "code",
   "execution_count": 18,
   "metadata": {},
   "outputs": [],
   "source": [
    "def insert_route(data):\n",
    "    conn = getConnection()\n",
    "\n",
    "    cur = conn.cursor()\n",
    "    try:\n",
    "        cur.execute('insert into route values(%s, %s, %s, %s, %s)',\n",
    "                    (data['routeid'], data['ordered'], data['lat'],\n",
    "                    data['lon'], data['ele']))\n",
    "    except Exception as e:\n",
    "        print(e)\n",
    "        print(data['routeid'], data['ele'])\n",
    "    finally:\n",
    "        conn.commit()\n",
    "        cur.close()\n",
    "        conn.close()\n"
   ]
  },
  {
   "cell_type": "code",
   "execution_count": 20,
   "metadata": {},
   "outputs": [],
   "source": [
    "#files = [x for x in os.listdir('export') if x.endswith('json')]\n",
    "files = ['ROUTE.json', 'MOUNTAIN.json', 'MARKER.json', 'MNTN_ROUTE.json', 'ROUTE_RNAME.json']\n",
    "for file in files:\n",
    "    with open('export/' + file, mode='r', encoding='utf-8') as f:\n",
    "        jsondata = json.loads(f.read())\n",
    "        if file[:-5] == 'MARKER':\n",
    "            for data in jsondata:\n",
    "                insert_marker(data)\n",
    "        elif file[:-5] == 'MNTN_ROUTE':\n",
    "            for data in jsondata:\n",
    "                insert_mntn_route(data)\n",
    "        elif file[:-5] == 'MOUNTAIN':\n",
    "            for data in jsondata:\n",
    "                insert_mountain(data)\n",
    "        elif file[:-5] == 'ROUTE_RNAME':\n",
    "            for data in jsondata:\n",
    "                insert_route_rname(data)\n",
    "        elif file[:-5] == 'ROUTE':\n",
    "            for data in jsondata:\n",
    "                insert_route(data)"
   ]
  }
 ],
 "metadata": {
  "interpreter": {
   "hash": "fdd836e67e8fe0c88bd02646b333c3c0da2a1176c9ac5c876b68c94a3c800b6c"
  },
  "kernelspec": {
   "display_name": "Python 3.9.7 ('base')",
   "language": "python",
   "name": "python3"
  },
  "language_info": {
   "codemirror_mode": {
    "name": "ipython",
    "version": 3
   },
   "file_extension": ".py",
   "mimetype": "text/x-python",
   "name": "python",
   "nbconvert_exporter": "python",
   "pygments_lexer": "ipython3",
   "version": "3.9.7"
  },
  "orig_nbformat": 4
 },
 "nbformat": 4,
 "nbformat_minor": 2
}
