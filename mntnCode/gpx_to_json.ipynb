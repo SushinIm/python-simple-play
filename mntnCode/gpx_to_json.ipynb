{
 "cells": [
  {
   "cell_type": "code",
   "execution_count": 1,
   "metadata": {},
   "outputs": [],
   "source": [
    "import os\n",
    "import json\n",
    "import xmltodict"
   ]
  },
  {
   "cell_type": "code",
   "execution_count": 2,
   "metadata": {},
   "outputs": [],
   "source": [
    "data_path = '100대명산/'\n",
    "output_path = 'export/'\n",
    "#file_list = []\n",
    "mntn_list = os.listdir(data_path)\n",
    "#for dirs in dir_list:\n",
    "#    files  = os.listdir(data_path + dirs)\n",
    "#    file_list += [dirs + '/' + x for x in files if x.endswith('gpx')]"
   ]
  },
  {
   "cell_type": "code",
   "execution_count": 1,
   "metadata": {},
   "outputs": [
    {
     "ename": "NameError",
     "evalue": "name 'mntn_list' is not defined",
     "output_type": "error",
     "traceback": [
      "\u001b[1;31m---------------------------------------------------------------------------\u001b[0m",
      "\u001b[1;31mNameError\u001b[0m                                 Traceback (most recent call last)",
      "\u001b[1;32m<ipython-input-1-50a45feead37>\u001b[0m in \u001b[0;36m<module>\u001b[1;34m\u001b[0m\n\u001b[0;32m      4\u001b[0m \u001b[0mroute_json\u001b[0m \u001b[1;33m=\u001b[0m \u001b[1;33m[\u001b[0m\u001b[1;33m]\u001b[0m\u001b[1;33m\u001b[0m\u001b[1;33m\u001b[0m\u001b[0m\n\u001b[0;32m      5\u001b[0m \u001b[0mmarker_json\u001b[0m \u001b[1;33m=\u001b[0m \u001b[1;33m[\u001b[0m\u001b[1;33m]\u001b[0m\u001b[1;33m\u001b[0m\u001b[1;33m\u001b[0m\u001b[0m\n\u001b[1;32m----> 6\u001b[1;33m \u001b[1;32mfor\u001b[0m \u001b[0mmntn\u001b[0m \u001b[1;32min\u001b[0m \u001b[0mmntn_list\u001b[0m\u001b[1;33m:\u001b[0m\u001b[1;33m\u001b[0m\u001b[1;33m\u001b[0m\u001b[0m\n\u001b[0m\u001b[0;32m      7\u001b[0m     \u001b[0mcourse_list\u001b[0m \u001b[1;33m=\u001b[0m \u001b[0mos\u001b[0m\u001b[1;33m.\u001b[0m\u001b[0mlistdir\u001b[0m\u001b[1;33m(\u001b[0m\u001b[0mdata_path\u001b[0m \u001b[1;33m+\u001b[0m \u001b[0mmntn\u001b[0m \u001b[1;33m+\u001b[0m \u001b[1;34m'/'\u001b[0m\u001b[1;33m)\u001b[0m\u001b[1;33m\u001b[0m\u001b[1;33m\u001b[0m\u001b[0m\n\u001b[0;32m      8\u001b[0m     \u001b[0mcourse\u001b[0m \u001b[1;33m=\u001b[0m \u001b[1;36m1\u001b[0m\u001b[1;33m\u001b[0m\u001b[1;33m\u001b[0m\u001b[0m\n",
      "\u001b[1;31mNameError\u001b[0m: name 'mntn_list' is not defined"
     ]
    }
   ],
   "source": [
    "mountain = 1\n",
    "rtbl_json = []\n",
    "mtbl_json = []\n",
    "route_json = []\n",
    "marker_json = []\n",
    "for mntn in mntn_list:\n",
    "    course_list = os.listdir(data_path + mntn + '/')\n",
    "    course = 1\n",
    "    for crs in course_list:\n",
    "        paths = {}\n",
    "        mntns = {}\n",
    "        print(crs)\n",
    "        with open(data_path + mntn + '/' + crs, mode='r', encoding='utf-8') as f:\n",
    "            data = json.loads(json.dumps(xmltodict.parse(f.read())))['gpx']\n",
    "            if 'wpt' in data.keys():\n",
    "                markers = []\n",
    "                if type(data['wpt']) == type({}):\n",
    "                    markers.append(data['wpt'])\n",
    "                else:\n",
    "                    markers = data['wpt']\n",
    "\n",
    "                mk = 1\n",
    "                for _ in range(len(markers)):\n",
    "                    info = {}\n",
    "                    info['markerid'] = 'MK' + str(mountain).zfill(3) + str(course).zfill(3) + str(mk).zfill(3)\n",
    "                    info['category'] = markers[_]['extensions']['category']\n",
    "                    info['lat'] = markers[_]['@lat']\n",
    "                    info['lon'] = markers[_]['@lon']\n",
    "                    info['ele'] = markers[_]['ele']\n",
    "                    info['name'] = markers[_]['name']\n",
    "                    info['routeid'] = 'RT' + str(mountain).zfill(3) + str(course).zfill(3)\n",
    "                    marker_json.append(info)\n",
    "                    mk += 1\n",
    "\n",
    "            routes_temp = data['trk']['trkseg']\n",
    "            routes = []\n",
    "            if type(routes_temp) == type([]):\n",
    "                for _ in routes_temp:\n",
    "                    routes += _['trkpt']\n",
    "            else:\n",
    "                routes = routes_temp['trkpt']\n",
    "                \n",
    "            mntns['routeid'] = 'RT' + str(mountain).zfill(3) + str(course).zfill(3)\n",
    "            mntns['mntnid'] = 'MT' + str(mountain).zfill(3)\n",
    "            mtbl_json.append(mntns)\n",
    "\n",
    "            paths['routeid'] = 'RT' + str(mountain).zfill(3) + str(course).zfill(3)\n",
    "            paths['routename'] = mntn + '_' + str(course).zfill(3)\n",
    "            rtbl_json.append(paths)\n",
    "\n",
    "            idx = 1\n",
    "            for route in routes:\n",
    "                info = {}\n",
    "                info['routeid'] = 'RT' + str(mountain).zfill(3) + str(course).zfill(3)\n",
    "                info['ordered'] = str(idx).zfill(4)\n",
    "                info['lat'] = route['@lat']\n",
    "                info['lon'] = route['@lon']\n",
    "                info['ele'] = route['ele']\n",
    "                route_json.append(info)\n",
    "                idx += 1\n",
    "        course += 1\n",
    "    mountain += 1\n",
    "\n",
    "# 산 - 등산로 테이블\n",
    "with open(output_path + 'MNTN_ROUTE.json', mode='w', encoding='utf-8') as mr:\n",
    "    json.dump(mtbl_json, mr, indent=4, ensure_ascii=False)\n",
    "# 등산로 - 등산로 이름 테이블\n",
    "with open(output_path + 'ROUTE_RNAME.json', mode='w', encoding='utf-8') as mr:\n",
    "    json.dump(rtbl_json, mr, indent=4, ensure_ascii=False)\n",
    "# 등산로 테이블\n",
    "with open(output_path + 'ROUTE.json', mode='w', encoding='utf-8') as rt:\n",
    "    json.dump(route_json, rt, indent=4, ensure_ascii=False)\n",
    "# 마커 테이블\n",
    "with open(output_path + 'MARKER.json', mode='w', encoding='utf-8') as mk:\n",
    "    json.dump(marker_json, mk, indent=4, ensure_ascii=False)"
   ]
  },
  {
   "cell_type": "code",
   "execution_count": 47,
   "metadata": {},
   "outputs": [
    {
     "data": {
      "text/plain": [
       "13"
      ]
     },
     "execution_count": 47,
     "metadata": {},
     "output_type": "execute_result"
    }
   ],
   "source": [
    "mountain"
   ]
  }
 ],
 "metadata": {
  "interpreter": {
   "hash": "be11c6a8cb48343da695cc526623435653ea93b72c77a556c54e4fc2cb1dd631"
  },
  "kernelspec": {
   "display_name": "Python 3.6.13 ('env01')",
   "language": "python",
   "name": "python3"
  },
  "language_info": {
   "codemirror_mode": {
    "name": "ipython",
    "version": 3
   },
   "file_extension": ".py",
   "mimetype": "text/x-python",
   "name": "python",
   "nbconvert_exporter": "python",
   "pygments_lexer": "ipython3",
   "version": "3.6.13"
  },
  "orig_nbformat": 4
 },
 "nbformat": 4,
 "nbformat_minor": 2
}
