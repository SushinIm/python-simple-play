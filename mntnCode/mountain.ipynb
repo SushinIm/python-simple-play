{
 "cells": [
  {
   "cell_type": "code",
   "execution_count": 1,
   "metadata": {},
   "outputs": [],
   "source": [
    "import requests\n",
    "import json\n",
    "import os"
   ]
  },
  {
   "cell_type": "code",
   "execution_count": 2,
   "metadata": {},
   "outputs": [],
   "source": [
    "# 3368 ~~~ api\n",
    "url1 = 'http://apis.data.go.kr/1400000/service/cultureInfoService/mntInfoOpenAPI'\n",
    "params1 ={   'serviceKey' : 'JaBvFnTTVl4Ejt33cfZMLc82iWvvH4tVqak3LFKEjNNr7mCmlH3lKZa6Q7A35YnudP4dZpNf0hd8QTyXeYsYqA==',\n",
    "            'numOfRows' : 4705,\n",
    "            '_type' : 'json'}\n",
    "\n",
    "response = requests.get(url1, params=params1)"
   ]
  },
  {
   "cell_type": "code",
   "execution_count": 3,
   "metadata": {},
   "outputs": [],
   "source": [
    "json_res = json.loads(response.text)\n",
    "items = json_res['response']['body']['items']['item']"
   ]
  },
  {
   "cell_type": "code",
   "execution_count": 34,
   "metadata": {},
   "outputs": [],
   "source": [
    "hundred = []\n",
    "for item in items:\n",
    "    if len(item['mntitop']) > 1:\n",
    "        #print(item['mntiname'], end='\\t')\n",
    "        hundred.append(item)\n"
   ]
  },
  {
   "cell_type": "code",
   "execution_count": 5,
   "metadata": {},
   "outputs": [],
   "source": [
    "mntn_list = os.listdir('100대명산/')"
   ]
  },
  {
   "cell_type": "code",
   "execution_count": 6,
   "metadata": {},
   "outputs": [],
   "source": [
    "url2 = 'http://openapi.forest.go.kr/openapi/service/trailInfoService/getforeststoryservice'\n",
    "params2 ={   'serviceKey' : 'JaBvFnTTVl4Ejt33cfZMLc82iWvvH4tVqak3LFKEjNNr7mCmlH3lKZa6Q7A35YnudP4dZpNf0hd8QTyXeYsYqA==',\n",
    "            '_type' : 'json',\n",
    "            'numOfRows' : 1338}\n",
    "\n",
    "response2 = requests.get(url2, params=params2)"
   ]
  },
  {
   "cell_type": "code",
   "execution_count": 7,
   "metadata": {},
   "outputs": [],
   "source": [
    "json_res2 = json.loads(response2.text)\n",
    "items2 = json_res2['response']['body']['items']['item']"
   ]
  },
  {
   "cell_type": "code",
   "execution_count": 53,
   "metadata": {},
   "outputs": [],
   "source": [
    "hundred2 = []\n",
    "for item in items2:\n",
    "    if item['hndfmsmtnslctnrson'] not in ['&amp;nbsp;', '&nbsp;', '&amp;#160;', '<p>&nbsp;</p>', ' '] or item['mntnnm'] == '주흘산':\n",
    "        hundred2.append(item)\n"
   ]
  },
  {
   "cell_type": "code",
   "execution_count": 54,
   "metadata": {},
   "outputs": [
    {
     "data": {
      "text/plain": [
       "{'crcmrsghtngetcimageseq': 'http://www.forest.go.kr/swf/foreston/mountain/E_M0152.swf         ',\n",
       " 'crcmrsghtnginfodscrt': '● 숙식 및 기타정보<BR>상선암 부근에 민박집이 많다. 대부분 식당과 가게를 겸한다. <BR>단양읍내에 대명콘도가 있다. <BR>선암가든민박 ☎043-422-1447<BR>도락산장 ☎043-422-1501<BR>상선휴게소 ☎043-422-1511<BR><BR>● 이용문의<BR>단양분소 ☎043-422-5062~3',\n",
       " 'crcmrsghtnginfoetcdscrt': '①상선교-선바위-채운봉-삼거리-정상-삼거리-제봉(상선상봉)-상선교 (총 5시간 10분)<BR>②궁텃골-사모폭포-내궁기마을-신선봉-정상-상선암 (총 3시간 30분)',\n",
       " 'hkngpntdscrt': ' ',\n",
       " 'hndfmsmtnmapimageseq': 'http://www.forest.go.kr/swf/foreston/mountain/I_M0152.jpg         ',\n",
       " 'hndfmsmtnslctnrson': '소백산과 월악산 중간에 위치하며, 단양8경인 하선암, 중선암과 사인암 등이 산재해 있는 바위산으로 경관이 수려한 점 등을 고려하여 선정, 남한강 지류인 단양천 10여km 구간에 있는 하선암(下仙岩)과 쌍룡폭포,옥렴대,명경대 등 웅장한 바위가 있는 중선암(中仙岩), 경천벽, 와룡암, 일사대, 명경담 등이 있는 상선암(上仙岩)이 특히 유명',\n",
       " 'mntnattchimageseq': 'http://www.forest.go.kr/newkfsweb/cmm/fms/getImage.do?fileSn=1&atchFileId=FILE_000000000424521',\n",
       " 'mntnid': 20000152,\n",
       " 'mntninfodscrt': \"&lt;성벽 쌓은 듯한 암릉등반 묘미 &gt;<BR>도락산(965.3m)은 월악산국립공원 끄트머리, 소백산국립공원과 이웃한 곳에 있다. '깨달음을 얻는 데는 나름대로 길이 있어야 하고 거기에는 또한 즐거움이 뒤따라야 한다'라는 뜻에서 우암 송시열이 산이름을 지었다고 전한다. 정상은 단양군 단성면과 대강면의 경계이다. 산세가 월악산과 비슷하여 곳곳에 암봉이 솟아있고 사방으로 뻗어나간 능선마루는 마치 성벽을 쌓은 것처럼 암릉이 이어져 장관이다. <BR>특히 정상에서 북동쪽으로 이어진 능선에는 신선봉, 채운봉, 검봉 등의 암봉이 줄지어 있어 경관이 좋고, 암릉을 오르내리는 재미 또한 각별하다. 다만 초보자들에게는 도락산 암릉길이 결코 만만치 않다. 산행경험이 풍부한 안내자와 함께 가는 것이 좋으며 눈이 올 경우엔 각별히 주의해야 한다. 일단 산에 들어가면 식수를 구하기 어려우므로 미리 준비해야 한다.\",\n",
       " 'mntninfodtlinfocont': '우암 송시열 선생이 \"도를 깨닫고 스스로 즐길 만한 곳이다\" 해서 도락산이라 명명한 이 산은 경북과 충북의 도경계선에 근접해 있다. <BR>월악산국립공원권에 속해 있는 산으로, 충북 단양군 단양읍과 대강면의 경계를 이루고 있으며 도락산 산자락에는 단양 8경 중 4경인 사인암,상선암,중선암,하선암 등이 있어 관광의 보고이기도 하다.',\n",
       " 'mntninfohght': 965,\n",
       " 'mntninfomangrtlno': ' ',\n",
       " 'mntninfomapdnldfilenm': 'http://www.forest.go.kr/swf/foreston/mountain/M0152.zip           ',\n",
       " 'mntninfomngmemnbdnm': ' ',\n",
       " 'mntninfopoflc': '충청북도 단양군 단성면, 대강면',\n",
       " 'mntninfotrnspinfoimageseq': 'http://www.forest.go.kr/swf/foreston/mountain/T_M0152.swf         ',\n",
       " 'mntnnm': '도락산',\n",
       " 'mntnsbttlinfo': '도를 깨닫고 스스로 즐길만한 산',\n",
       " 'pbtrninfodscrt': '기점은 단양이다. <BR>벌천리까지 06:20~19:40 1일 9회 운행. 방곡행 시내버스. 상금교 지나 상선휴게소에서 하차한다. 40분 소요. <BR>신단양버스터미널 ☎043-422-2866',\n",
       " 'ptmntrcmmncoursdscrt': ' ',\n",
       " 'rcmmncoursimageseq': 'http://www.forest.go.kr/swf/foreston/mountain/'}"
      ]
     },
     "execution_count": 54,
     "metadata": {},
     "output_type": "execute_result"
    }
   ],
   "source": [
    "hundred2[25]"
   ]
  },
  {
   "cell_type": "code",
   "execution_count": 49,
   "metadata": {},
   "outputs": [],
   "source": [
    "import re\n",
    "\n",
    "mountains = []\n",
    "for _ in range(100):\n",
    "    info = {}\n",
    "    info['mntnid'] = 'MT' + str(_+1).zfill(3)\n",
    "    info['reason'] = re.sub('\\\\r|\\\\n', '', hundred[_]['mntitop']).strip()\n",
    "    info['mntnname'] = mntn_list[_]\n",
    "    info['mntnsname'] = hundred2[_]['mntnsbttlinfo']\n",
    "    info['mntnaddr'] = hundred[_]['mntiadd']\n",
    "    info['mntnhigh'] = hundred[_]['mntihigh']\n",
    "    info['mntnadmin'] = hundred[_]['mntiadmin']\n",
    "    info['mntnadmnum'] = hundred[_]['mntiadminnum']\n",
    "    info['mntidetail'] = re.sub('\\\\r|\\\\n', '', hundred[_]['mntidetails']).strip()\n",
    "    mountains.append(info)\n",
    "\n",
    "mountains[76]['mntnname'], mountains[77]['mntnname'] = mountains[77]['mntnname'], mountains[76]['mntnname']\n",
    "mountains[76]['mntnsname'], mountains[77]['mntnsname'] = mountains[77]['mntnsname'], mountains[76]['mntnsname']\n",
    "\n",
    "with open('export/' + 'MOUNTAIN.json', mode='w', encoding='utf-8') as mk:\n",
    "    json.dump(mountains, mk, indent=4, ensure_ascii=False)"
   ]
  },
  {
   "cell_type": "code",
   "execution_count": null,
   "metadata": {},
   "outputs": [],
   "source": [
    "mountains[76]"
   ]
  }
 ],
 "metadata": {
  "interpreter": {
   "hash": "fdd836e67e8fe0c88bd02646b333c3c0da2a1176c9ac5c876b68c94a3c800b6c"
  },
  "kernelspec": {
   "display_name": "Python 3.9.7 ('base')",
   "language": "python",
   "name": "python3"
  },
  "language_info": {
   "codemirror_mode": {
    "name": "ipython",
    "version": 3
   },
   "file_extension": ".py",
   "mimetype": "text/x-python",
   "name": "python",
   "nbconvert_exporter": "python",
   "pygments_lexer": "ipython3",
   "version": "3.9.7"
  },
  "orig_nbformat": 4
 },
 "nbformat": 4,
 "nbformat_minor": 2
}
