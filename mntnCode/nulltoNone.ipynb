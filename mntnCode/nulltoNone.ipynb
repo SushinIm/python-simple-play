{
 "cells": [
  {
   "cell_type": "code",
   "execution_count": 2,
   "metadata": {},
   "outputs": [],
   "source": [
    "import json\n",
    "import pandas as pd"
   ]
  },
  {
   "cell_type": "code",
   "execution_count": 4,
   "metadata": {},
   "outputs": [
    {
     "data": {
      "text/plain": [
       "41"
      ]
     },
     "execution_count": 4,
     "metadata": {},
     "output_type": "execute_result"
    }
   ],
   "source": [
    "data = pd.read_json('export/MARKER.json')\n",
    "max(map(lambda x : len(x), data.name))"
   ]
  },
  {
   "cell_type": "code",
   "execution_count": 14,
   "metadata": {},
   "outputs": [],
   "source": [
    "with open('export/MARKERcopy.json', mode='r', encoding='utf-8') as f:\n",
    "    jsondata = json.loads(f.read())\n",
    "    for data in jsondata:\n",
    "        if data['category'] == None:\n",
    "            data['category'] = 'NONE'\n",
    "\n",
    "with open('export/MARKER.json', mode='w', encoding='utf-8') as ff:\n",
    "    json.dump(jsondata, ff, indent=4, ensure_ascii=False)"
   ]
  }
 ],
 "metadata": {
  "interpreter": {
   "hash": "fdd836e67e8fe0c88bd02646b333c3c0da2a1176c9ac5c876b68c94a3c800b6c"
  },
  "kernelspec": {
   "display_name": "Python 3.9.7 ('base')",
   "language": "python",
   "name": "python3"
  },
  "language_info": {
   "codemirror_mode": {
    "name": "ipython",
    "version": 3
   },
   "file_extension": ".py",
   "mimetype": "text/x-python",
   "name": "python",
   "nbconvert_exporter": "python",
   "pygments_lexer": "ipython3",
   "version": "3.9.7"
  },
  "orig_nbformat": 4
 },
 "nbformat": 4,
 "nbformat_minor": 2
}
