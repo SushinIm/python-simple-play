{
 "cells": [
  {
   "cell_type": "code",
   "execution_count": 1,
   "metadata": {},
   "outputs": [],
   "source": [
    "import os\n",
    "import json\n",
    "import xmltodict"
   ]
  },
  {
   "cell_type": "code",
   "execution_count": 2,
   "metadata": {},
   "outputs": [],
   "source": [
    "json_path = 'mountain/jsonData/'\n",
    "gpx_path = 'mountain/gpxData/'\n",
    "output_path = 'export/'\n",
    "json_list = os.listdir(json_path)\n",
    "json_list = sorted([_ for _ in json_list if _.endswith('json')])\n",
    "gpx_list = os.listdir(gpx_path)\n",
    "gpx_list = sorted([_ for _ in gpx_list if _.endswith('gpx')])"
   ]
  },
  {
   "cell_type": "code",
   "execution_count": null,
   "metadata": {},
   "outputs": [],
   "source": [
    "'''\n",
    "#json features 뽑기\n",
    "\n",
    "file = open(json_path + json_list[18], mode='r', encoding='utf-8')\n",
    "title = json_list[18][-14:-5]\n",
    "features = json.loads(file.read())['features']\n",
    "attributes = []\n",
    "paths = []\n",
    "for attr in features:\n",
    "    attributes.append(attr['attributes'])\n",
    "    paths.append(attr['geometry']['paths'])\n",
    "print(len(attributes))\n",
    "print(len(paths))\n",
    "file.close()\n",
    "'''"
   ]
  },
  {
   "cell_type": "code",
   "execution_count": null,
   "metadata": {},
   "outputs": [],
   "source": [
    "'''\n",
    "#gpx 좌표 뽑기\n",
    "\n",
    "file = open(gpx_path + gpx_list[18], mode='r', encoding='utf-8')\n",
    "title = gpx_list[18][-13:-4]\n",
    "gpx_data = json.loads(json.dumps(xmltodict.parse(file.read())))\n",
    "xy = []\n",
    "for trk in gpx_data['gpx']['trk']:\n",
    "    temp = []\n",
    "    index = 0\n",
    "    for trkpt in trk['trkseg']['trkpt']:\n",
    "        if index % 3 == 0:\n",
    "            temp.append([trkpt['@lat'], trkpt['@lon']])\n",
    "        index += 1\n",
    "    xy.append(temp)\n",
    "print(len(xy))\n",
    "file.close()\n",
    "'''"
   ]
  },
  {
   "cell_type": "code",
   "execution_count": 6,
   "metadata": {},
   "outputs": [],
   "source": [
    "#json, gpx 파일들 불러오기\n",
    "if len(json_list) == len(gpx_list):\n",
    "    for loop in range(len(json_list)):\n",
    "        file_name = json_list[loop]\n",
    "        json_file = open(json_path + json_list[loop], mode='r', encoding='utf-8')\n",
    "        gpx_file = open(gpx_path + gpx_list[loop], mode='r', encoding='utf-8')\n",
    "\n",
    "        json_data = json.loads(json_file.read())['features']\n",
    "        gpx_data = json.loads(json.dumps(xmltodict.parse(gpx_file.read())))['gpx']['trk']\n",
    "\n",
    "        attributes = [attr['attributes'] for attr in json_data]\n",
    "        paths = []\n",
    "        for trk in gpx_data:\n",
    "            temp = []\n",
    "            index = 0\n",
    "            for path in trk['trkseg']['trkpt']:\n",
    "                if index % 3 == 0:\n",
    "                    temp.append([path['@lat'], path['@lon']])\n",
    "                index += 1\n",
    "            paths.append(temp)\n",
    "        \n",
    "        result = []\n",
    "\n",
    "        if len(attributes) == len(paths):\n",
    "            for _ in range(len(attributes)):\n",
    "                merge = {}\n",
    "                merge['attributes'] = attributes[_]\n",
    "                merge['paths'] = paths[_]\n",
    "\n",
    "                result.append(merge)\n",
    "\n",
    "            output = open(output_path + file_name, mode='w', encoding='utf-8')\n",
    "            json.dump(result, output, indent=4, ensure_ascii=False)"
   ]
  }
 ],
 "metadata": {
  "interpreter": {
   "hash": "fdd836e67e8fe0c88bd02646b333c3c0da2a1176c9ac5c876b68c94a3c800b6c"
  },
  "kernelspec": {
   "display_name": "Python 3.9.7 ('base')",
   "language": "python",
   "name": "python3"
  },
  "language_info": {
   "codemirror_mode": {
    "name": "ipython",
    "version": 3
   },
   "file_extension": ".py",
   "mimetype": "text/x-python",
   "name": "python",
   "nbconvert_exporter": "python",
   "pygments_lexer": "ipython3",
   "version": "3.9.7"
  },
  "orig_nbformat": 4
 },
 "nbformat": 4,
 "nbformat_minor": 2
}
