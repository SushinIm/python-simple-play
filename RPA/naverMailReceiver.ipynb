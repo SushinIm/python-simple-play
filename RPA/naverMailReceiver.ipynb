{
 "cells": [
  {
   "cell_type": "code",
   "execution_count": null,
   "metadata": {
    "collapsed": true
   },
   "outputs": [],
   "source": [
    "from imap_tools import MailboxLoginError\n",
    "from imap_tools import MailBox\n",
    "import pandas as pd\n",
    "import re\n",
    "\n",
    "mailbox = MailBox('imap.naver.com')\n",
    "\n",
    "#inbox : 받은 편지함\n",
    "file = open('./setting/userInfo.txt', 'r', encoding='utf-8')\n",
    "id = re.sub('\\W$', '', file.readline())\n",
    "pw = re.sub('\\W$', '', file.readline())\n",
    "file.close\n",
    "\n",
    "try:\n",
    "    mailbox.login(id,pw,initial_folder = 'inbox')\n",
    "\n",
    "    mail_info = []\n",
    "    for mail in mailbox.fetch('UNSEEN', limit = 100, reverse = True): #모든 안읽은 메일에 대해 데이터를 긁어오려면 limit 생략 가능 \n",
    "        mail_date = re.sub('(.+):(.+)', '\\\\1시 \\\\2분', str(mail.date)[:16])\n",
    "\n",
    "        tmp = []\n",
    "        #메일 날짜, 발신일, 제목, 본문, 첨부파일 개수  \n",
    "        tmp.append(mail_date)\n",
    "        tmp.append(mail.from_values.name)\n",
    "        tmp.append(mail.from_values.email)\n",
    "        tmp.append(mail.subject)\n",
    "        tmp.append(re.sub('\\\\n|\\\\r', '', mail.text))\n",
    "        tmp.append(len(mail.attachments))\n",
    "        mail_info.append(tmp)\n",
    "\n",
    "        #파일 다운로드 : \n",
    "        for att in mail.attachments:\n",
    "            #download_수신시간_메일제목_파일이름 형태로 다운로드 : \n",
    "            with open('./download/' + mail.subject + '_' + mail_date + '_' + att.filename,'wb') as f:\n",
    "                f.write(att.payload) #payload 파일에다가 첨부파일을 쓰는 것 \n",
    "                print('첨부파일 {} 다운로드 완료'.format(att.filename))\n",
    "    \n",
    "    print('불러온 읽지 않은 메일의 수 : ', len(mail_info))\n",
    "\n",
    "    mailbox.logout()\n",
    "    df = pd.DataFrame([(x[0], x[1], x[2], x[3], x[4], x[5]) for x in mail_info],columns=['날짜','발신자 이름','발신자 메일','제목','내용','첨부파일 개수'])\n",
    "    #openpyxl 필요\n",
    "    df.to_excel('mail_info.xlsx')\n",
    "\n",
    "    print('메일 정리가 완료되었습니다.')\n",
    "except MailboxLoginError as e:\n",
    "    print(e)\n",
    "except OSError as e:\n",
    "    print(e)"
   ]
  }
 ],
 "metadata": {
  "interpreter": {
   "hash": "6bb36d79e20aec83f802902ff0dba6f1633729171a7d551bc433d7bbe7205372"
  },
  "kernelspec": {
   "display_name": "Python 3 (ipykernel)",
   "language": "python",
   "name": "python3"
  },
  "language_info": {
   "codemirror_mode": {
    "name": "ipython",
    "version": 3
   },
   "file_extension": ".py",
   "mimetype": "text/x-python",
   "name": "python",
   "nbconvert_exporter": "python",
   "pygments_lexer": "ipython3",
   "version": "3.6.13"
  }
 },
 "nbformat": 4,
 "nbformat_minor": 2
}
